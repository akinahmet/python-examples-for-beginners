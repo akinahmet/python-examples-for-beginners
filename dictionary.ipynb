{
 "cells": [
  {
   "cell_type": "code",
   "execution_count": 45,
   "metadata": {},
   "outputs": [
    {
     "name": "stdout",
     "output_type": "stream",
     "text": [
      "Welcome to my dictionary\n",
      "Please enter A for add a word\n",
      "Please enter D for delete a word\n",
      "Please enter S for search\n",
      "Please enter E for see every words\n",
      "Enter Q for exit\n",
      "All the words in our dictionary: \n",
      "---------------------------------\n",
      "English------German\n",
      "Sunday : Sonntag\n",
      "Monday : Montag\n",
      "Tuesday : Dienstag\n",
      "Wednesday : Mittwoch\n",
      "Thursday : Donnerstag\n",
      "Friday : Freitag\n",
      "Day : Tag\n"
     ]
    }
   ],
   "source": [
    "print(\"\"\" \n",
    "      ____________Dictionary____________\n",
    "      ________English to German_________\n",
    "      ________German to English_________\n",
    "      \n",
    "      ___Version_3 *** 15.04.2022 *** by @hmet___\n",
    "            \n",
    "      \"\"\")\n",
    "\n",
    "import json\n",
    "\n",
    "# ana menü fonksiyonu\n",
    "def mainMenu():\n",
    "    validChoices = [\"A\", \"D\", \"S\", \"E\", \"Q\"] # (Add, Delete,Search, Every words or Quit)\n",
    "    valid = False\n",
    "    while not valid:                \n",
    "        choice = input(\"Please choose your option\").upper()\n",
    "        if choice not in validChoices:\n",
    "            print(\"Please enter A,D,S,E or Q\")\n",
    "        else:\n",
    "            valid= True            \n",
    "    return choice\n",
    "\n",
    "# sözlüge yeni kelime ekleme fonksiyonu\n",
    "def addWord():\n",
    "    print(\"Please first enter the word in English than German\")\n",
    "    new_word_en = input(\"Please enter the word in English\").title()\n",
    "    new_word_ge = input(\"Please enter the word in German\").title() \n",
    "    with open(\"dictionary.txt\", \"r\") as rf:  # dosyayi aciyoruz\n",
    "        data = rf.read()\n",
    "    js = json.loads(data)  # js isimli dict degiskenine atadik\n",
    "    if new_word_en not in js['0']:\n",
    "        js['0'].update({new_word_en: new_word_ge})  # sözlükte güncellemeler yapiliyor\n",
    "        js['1'].update({new_word_ge: new_word_en})\n",
    "    else:\n",
    "        print(f\"{new_word_en} is already in dictionary\")    \n",
    "    with open(\"dictionary.txt\", \"w\") as wf:  # güncellemeleri dosyaya yaziyoruz\n",
    "        wf.write(json.dumps(js))\n",
    "        \n",
    "# sözlükten kelime silme fonksiyonu\n",
    "def delWord():\n",
    "    del_word = input(\"Please enter the word you want to delete\")\n",
    "    with open(\"dictionary.txt\", \"r\") as rf:\n",
    "        data = rf.read()\n",
    "    js = json.loads(data)\n",
    "    if del_word in js[\"0\"]:  # kullanici ingilizce girerse burada siliyoruz\n",
    "        js[\"1\"].pop(js[\"0\"][del_word])\n",
    "        js[\"0\"].pop(del_word)\n",
    "    elif del_word in js[\"1\"]:  # kullanici almanca girerse burada siliyoruz\n",
    "        js[\"0\"].pop(js[\"1\"][del_word])\n",
    "        js[\"1\"].pop(del_word)      \n",
    "    else:\n",
    "        print(\"Please enter a word in Dictionary\")  # girilen kelimenin sözlükte olmamasi durumu\n",
    "    with open(\"dictionary.txt\", \"w\") as wf:\n",
    "        wf.write(json.dumps(js))\n",
    "\n",
    "# sözlükte kelime arama fonksiyonu        \n",
    "def searchWord():\n",
    "    search_word = input(\"Please enter the word you want to search\")\n",
    "    with open(\"dictionary.txt\", \"r\") as rf:\n",
    "        data = rf.read()\n",
    "    js = json.loads(data)\n",
    "    if search_word in js[\"0\"] or search_word in js[\"1\"]:\n",
    "        print(\"The word you have searched is in our dictionary\")\n",
    "    else:\n",
    "        print(\"The word you have searched is not in our dictionary\")\n",
    "\n",
    "# sözlükte yer alan tüm kelimeleri yazdiran fonksiyon       \n",
    "def seeallWords():\n",
    "    print(\"All the words in our dictionary: \")\n",
    "    print(\"---------------------------------\")\n",
    "    print(\"English------German\")\n",
    "    with open(\"dictionary.txt\", \"r\") as rf:\n",
    "        data = rf.read()\n",
    "    js = json.loads(data)\n",
    "    for i, j in js[\"0\"].items():\n",
    "        print(i, \":\", j)\n",
    "        \n",
    "# programi burada baslatiyoruz\n",
    "\n",
    "entry = (\"\"\"Welcome to my dictionary\n",
    "Please enter A for add a word\n",
    "Please enter D for delete a word\n",
    "Please enter S for search\n",
    "Please enter E for see every words\n",
    "Enter Q for exit\"\"\")\n",
    "print(entry)\n",
    "\n",
    "\n",
    "userChoice = mainMenu() # önce anamenü fonksiyonunu calistiriyoruz\n",
    "\n",
    "if userChoice == \"A\":\n",
    "    addWord()\n",
    "elif userChoice == \"D\":\n",
    "    delWord()        \n",
    "elif userChoice == \"S\":\n",
    "    searchWord()\n",
    "elif userChoice == \"E\":\n",
    "    seeallWords()\n",
    "elif userChoice == \"Q\":\n",
    "    print(\"Thank you for your visit\")\n",
    "else:\n",
    "    print(entry)\n"
   ]
  },
  {
   "cell_type": "code",
   "execution_count": 62,
   "metadata": {},
   "outputs": [
    {
     "name": "stdout",
     "output_type": "stream",
     "text": [
      "ok\n"
     ]
    }
   ],
   "source": [
    "\n",
    "    "
   ]
  },
  {
   "cell_type": "code",
   "execution_count": 64,
   "metadata": {},
   "outputs": [
    {
     "data": {
      "text/plain": [
       "False"
      ]
     },
     "execution_count": 64,
     "metadata": {},
     "output_type": "execute_result"
    }
   ],
   "source": []
  },
  {
   "cell_type": "code",
   "execution_count": null,
   "metadata": {},
   "outputs": [],
   "source": []
  }
 ],
 "metadata": {
  "interpreter": {
   "hash": "df49366fda7ee0f36d4c8045f54f6f67300670dccd947b73953dbfe661710dcc"
  },
  "kernelspec": {
   "display_name": "Python 3.9.7 ('base')",
   "language": "python",
   "name": "python3"
  },
  "language_info": {
   "codemirror_mode": {
    "name": "ipython",
    "version": 3
   },
   "file_extension": ".py",
   "mimetype": "text/x-python",
   "name": "python",
   "nbconvert_exporter": "python",
   "pygments_lexer": "ipython3",
   "version": "3.9.7"
  },
  "orig_nbformat": 4
 },
 "nbformat": 4,
 "nbformat_minor": 2
}
