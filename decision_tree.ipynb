{
 "cells": [
  {
   "cell_type": "code",
   "execution_count": 8,
   "metadata": {},
   "outputs": [
    {
     "name": "stdout",
     "output_type": "stream",
     "text": [
      " Karar Agaci Oyunu\n",
      "      \n",
      "      Lütfen asagidaki elektronik esyalardan birisini aklinizdan tutun\n",
      "      \n",
      "      Cep Telefon+\n",
      "      Radyo\n",
      "      Tablet\n",
      "      Fotograf makinesi \n",
      "      Bulasik makinesi\n",
      "      Buzdolabi\n",
      "      Camasir Makinesi\n",
      "      Masaüstü bilgisayar    \n",
      "      Televizyon\n",
      "      \n",
      "      \n",
      "Aklinizdaki esya Fotograf Makinesi\n"
     ]
    }
   ],
   "source": [
    "print(\"\"\" Karar Agaci Oyunu\n",
    "      \n",
    "      Lütfen asagidaki elektronik esyalardan birisini aklinizdan tutun\n",
    "      \n",
    "      Cep Telefon+\n",
    "      Radyo\n",
    "      Tablet\n",
    "      Fotograf makinesi \n",
    "      Bulasik makinesi\n",
    "      Buzdolabi\n",
    "      Camasir Makinesi\n",
    "      Masaüstü bilgisayar    \n",
    "      Televizyon\n",
    "      \n",
    "      \"\"\")\n",
    "\n",
    "soru1 = input(\"Esya elektronik mi? Y/N\").upper()\n",
    "if soru1 == \"Y\":\n",
    "    soru2 = input(\"Esya tasinabilir mi? Y/N\").upper()\n",
    "    if soru2 == \"Y\":\n",
    "        soru3 = input(\"Esya fotograf ceker mi? Y/N\").upper()\n",
    "        if soru3 == \"Y\":\n",
    "            soru4 = input(\"Esyaya harici objektif takilabilir mi? Y/N\").upper()\n",
    "            if soru4 == \"Y\":\n",
    "                print(\"Aklinizdaki esya Fotograf Makinesi\")\n",
    "            else:\n",
    "                soru5 = input(\"Esya cepte tasinabilir mi? Y/N\").upper()\n",
    "                if soru5 == \"Y\":\n",
    "                    print(\"Aklinizdaki esya Cep Telefonu\")\n",
    "                else:\n",
    "                    print(\"Aklinizdaki esya Tablet\")\n",
    "        else:\n",
    "            print(\"Aklinizdaki esya Radyo\")\n",
    "    else:\n",
    "        soru3 = input(\"Esya beyaz esya mi? Y/N\").upper()\n",
    "        if soru3 == \"Y\":\n",
    "            soru4 = input(\"Esyanin icinde yiyecek saklanir mi Y/N\").upper()\n",
    "            if soru4 == \"Y\":\n",
    "                print(\"Aklinizdaki esya Buzdolabi\")\n",
    "            else:\n",
    "                soru5 = input(\"Esya genelde mutfakta mi kullanilir? Y/N\").upper()\n",
    "                if soru5 == \"Y\":\n",
    "                    print(\"Aklinizdaki esya Bulasik Makinesi\")\n",
    "                else:\n",
    "                    print(\"Aklinizdaki esya Camasir Makinesi\")\n",
    "        else:\n",
    "            soru4 = input(\"Esyada Python ile kodlama yapilabilir mi? Y/N\").upper()\n",
    "            if soru4 == \"Y\":\n",
    "                print(\"Aklinizdaki esya Masaüstü bilgisayar\")\n",
    "            else:\n",
    "                print(\"Aklinizdaki esya Televizyon\")\n",
    "else:\n",
    "    print(\"Lütfen aklinizdan bir elektronik esya tutunuz!\")\n",
    "                \n",
    "        "
   ]
  },
  {
   "cell_type": "code",
   "execution_count": null,
   "metadata": {},
   "outputs": [],
   "source": []
  }
 ],
 "metadata": {
  "interpreter": {
   "hash": "97cc609b13305c559618ec78a438abc56230b9381f827f22d070313b9a1f3777"
  },
  "kernelspec": {
   "display_name": "Python 3.10.2 64-bit",
   "language": "python",
   "name": "python3"
  },
  "language_info": {
   "codemirror_mode": {
    "name": "ipython",
    "version": 3
   },
   "file_extension": ".py",
   "mimetype": "text/x-python",
   "name": "python",
   "nbconvert_exporter": "python",
   "pygments_lexer": "ipython3",
   "version": "3.9.7"
  },
  "orig_nbformat": 4
 },
 "nbformat": 4,
 "nbformat_minor": 2
}
