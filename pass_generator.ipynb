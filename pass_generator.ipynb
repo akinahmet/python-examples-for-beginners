{
 "cells": [
  {
   "cell_type": "code",
   "execution_count": 5,
   "metadata": {},
   "outputs": [
    {
     "name": "stdout",
     "output_type": "stream",
     "text": [
      "Here is new generated password:\n",
      "qCUmFNu<6!\n"
     ]
    }
   ],
   "source": [
    "# password generator by @hmet\n",
    "\n",
    "import random\n",
    "import string as st\n",
    "\n",
    "l_case = st.ascii_lowercase\n",
    "u_case = st.ascii_uppercase\n",
    "numbers = st.digits\n",
    "special_char = st.punctuation\n",
    "all_char= l_case+u_case+numbers+special_char\n",
    "password=''\n",
    "\n",
    "for i in range(6):\n",
    "    \n",
    "    password += random.choice(all_char)\n",
    "password += random.choice(l_case)\n",
    "password += random.choice(u_case)\n",
    "password += random.choice(numbers)\n",
    "password += random.choice(special_char) \n",
    "password = ''.join(random.sample(password, 10)) \n",
    "print('Here is new generated password:')   \n",
    "print(password)"
   ]
  },
  {
   "cell_type": "code",
   "execution_count": 12,
   "metadata": {},
   "outputs": [
    {
     "name": "stdout",
     "output_type": "stream",
     "text": [
      "Here is new generated password:\n",
      "+8GG$TesMi\n"
     ]
    }
   ],
   "source": [
    "# password generator V2 by @hmet\n",
    "\n",
    "import random\n",
    "import string as st\n",
    "\n",
    "l_case = st.ascii_lowercase\n",
    "u_case = st.ascii_uppercase\n",
    "numbers = st.digits\n",
    "special_char = st.punctuation\n",
    "all_char= l_case+u_case+numbers+special_char\n",
    "password=''\n",
    "random.seed(9001)  # burayi ekledim\n",
    "for i in range(6):\n",
    "    \n",
    "    password += random.choice(all_char)\n",
    "password += random.choice(l_case)\n",
    "password += random.choice(u_case)\n",
    "password += random.choice(numbers)\n",
    "password += random.choice(special_char) \n",
    "password = ''.join(random.sample(password, 10)) \n",
    "print('Here is new generated password:')   \n",
    "print(password)"
   ]
  },
  {
   "cell_type": "code",
   "execution_count": null,
   "metadata": {},
   "outputs": [],
   "source": []
  }
 ],
 "metadata": {
  "interpreter": {
   "hash": "df49366fda7ee0f36d4c8045f54f6f67300670dccd947b73953dbfe661710dcc"
  },
  "kernelspec": {
   "display_name": "Python 3.9.7 ('base')",
   "language": "python",
   "name": "python3"
  },
  "language_info": {
   "codemirror_mode": {
    "name": "ipython",
    "version": 3
   },
   "file_extension": ".py",
   "mimetype": "text/x-python",
   "name": "python",
   "nbconvert_exporter": "python",
   "pygments_lexer": "ipython3",
   "version": "3.9.7"
  },
  "orig_nbformat": 4
 },
 "nbformat": 4,
 "nbformat_minor": 2
}
