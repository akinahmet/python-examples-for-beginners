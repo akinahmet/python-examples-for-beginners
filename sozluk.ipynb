{
 "cells": [
  {
   "cell_type": "code",
   "execution_count": 2,
   "metadata": {},
   "outputs": [
    {
     "name": "stdout",
     "output_type": "stream",
     "text": [
      " \n",
      "      ____________Dictionary____________\n",
      "      ________English to German_________\n",
      "      ________German to English_________\n",
      "      \n",
      "      \n",
      "      \n",
      "      Press 1 for adding a new Word\n",
      "      Press 2 for cleaning a Word\n",
      "      Press 3 for searching a Word\n",
      "      Press 4 to see all words\n",
      "      Press 5 to quit\n",
      "      \n",
      "      \n",
      "      \n",
      "      ___Version_2 *** 07.03.2022 *** by @hmet___\n",
      "      \n",
      "      \n",
      "      \n",
      "Not in dictionary\n"
     ]
    }
   ],
   "source": [
    "print(\"\"\" \n",
    "      ____________Dictionary____________\n",
    "      ________English to German_________\n",
    "      ________German to English_________\n",
    "      \n",
    "      \n",
    "      \n",
    "      Press 1 for adding a new Word\n",
    "      Press 2 for cleaning a Word\n",
    "      Press 3 for searching a Word\n",
    "      Press 4 to see all words\n",
    "      Press 5 to quit\n",
    "      \n",
    "      \n",
    "      \n",
    "      ___Version_2 *** 07.03.2022 *** by @hmet___\n",
    "      \n",
    "      \n",
    "      \"\"\")\n",
    "\n",
    "\n",
    "dict_dict = {\n",
    "0: {\n",
    "    'Sunday': 'Sonntag',\n",
    "    'Monday': 'Montag',\n",
    "    'Tuesday': 'Dienstag',\n",
    "    'Wednesday': 'Mittwoch'\n",
    "    },\n",
    "1: {\n",
    "    'Sonntag': 'Sunday',\n",
    "    'Montag': 'Monday',\n",
    "    'Dienstag': 'Tuesday',\n",
    "    'Mittwoch': 'Wednesday'\n",
    "    }\n",
    "}\n",
    "\n",
    "request = input(\"Please enter an number (1 to 5) what do you want to do? \")\n",
    "\n",
    "if request == \"1\":\n",
    "    request_dict = input(\"For En-Ge enter 1, for Ge-En enter 2\")\n",
    "    if request_dict == \"1\":\n",
    "        new_word_en = input(\"Please enter the word in English\")\n",
    "        new_word_ge = input(\"Please enter the word in German\")    \n",
    "        dict_dict[0][new_word_en] = new_word_ge\n",
    "        dict_dict[1][new_word_ge] = new_word_en\n",
    "        \n",
    "    elif request_dict == \"2\":\n",
    "        new_word_ge = input(\"Please enter the word in German\")\n",
    "        new_word_en = input(\"Please enter the word in English\")    \n",
    "        dict_dict[1][new_word_ge] = new_word_en\n",
    "        dict_dict[0][new_word_en] = new_word_ge\n",
    "    else:\n",
    "        print(\"Please enter 1 or 2\")\n",
    "        \n",
    "elif request == \"2\":\n",
    "    request_clean = input(\"Cleaning word for Eng enter 1, for Ger enter 2\")\n",
    "    if request_clean == \"1\":\n",
    "        word_clean = input(\"please enter the word in English to clean\")\n",
    "        if word_clean in dict_dict[0]:\n",
    "            dict_dict[0].pop(word_clean)\n",
    "        else:\n",
    "            print(\"Not in dictionary\")\n",
    "    elif request_clean == \"2\":\n",
    "        word_clean = input(\"please enter the word in German to clean\")\n",
    "        if word_clean in dict_dict[1]:\n",
    "            dict_dict[1].pop(word_clean)\n",
    "        else:\n",
    "            print(\"Not in dictionary\")\n",
    "    else:\n",
    "        print(\"Please enter 1 or 2\")\n",
    "        \n",
    "elif request == \"3\":\n",
    "    language = int(input (\"Please enter 0 for Eng-Deu, enter 1 for Deu-Eng: \"))\n",
    "    word = input(\"Enter a word: \")\n",
    "    print(dict_dict[language].get(word, \"Not in dictionary\"))\n",
    "    \n",
    "elif request == \"4\":\n",
    "    print(dict_dict[0])\n",
    "    print(dict_dict[1])\n",
    "    \n",
    "elif request == \"5\":\n",
    "    print(\"Thanks for using dictionary\")\n",
    "    \n",
    "else:\n",
    "    print(\"try again but please enter 1 or2 or 3 or 4 or or 5\")\n",
    "    \n",
    "\n",
    "    \n",
    "    \n"
   ]
  },
  {
   "cell_type": "code",
   "execution_count": 7,
   "metadata": {},
   "outputs": [
    {
     "data": {
      "text/plain": [
       "{0: {'Sunday': 'Sonntag',\n",
       "  'Monday': 'Montag',\n",
       "  'Tuesday': 'Dienstag',\n",
       "  'Wednesday': 'Mittwoch',\n",
       "  'Friday': 'Freitag'},\n",
       " 1: {'Sonntag': 'Sunday',\n",
       "  'Montag': 'Monday',\n",
       "  'Dienstag': 'Tuesday',\n",
       "  'Mittwoch': 'Wednesday',\n",
       "  'Freitag': 'Friday'}}"
      ]
     },
     "execution_count": 7,
     "metadata": {},
     "output_type": "execute_result"
    }
   ],
   "source": [
    "dict_dict"
   ]
  },
  {
   "cell_type": "code",
   "execution_count": null,
   "metadata": {},
   "outputs": [],
   "source": []
  }
 ],
 "metadata": {
  "interpreter": {
   "hash": "df49366fda7ee0f36d4c8045f54f6f67300670dccd947b73953dbfe661710dcc"
  },
  "kernelspec": {
   "display_name": "Python 3.9.7 ('base')",
   "language": "python",
   "name": "python3"
  },
  "language_info": {
   "codemirror_mode": {
    "name": "ipython",
    "version": 3
   },
   "file_extension": ".py",
   "mimetype": "text/x-python",
   "name": "python",
   "nbconvert_exporter": "python",
   "pygments_lexer": "ipython3",
   "version": "3.9.7"
  },
  "orig_nbformat": 4
 },
 "nbformat": 4,
 "nbformat_minor": 2
}
