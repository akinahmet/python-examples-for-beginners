{
 "cells": [
  {
   "cell_type": "code",
   "execution_count": 6,
   "metadata": {},
   "outputs": [
    {
     "data": {
      "text/plain": [
       "1"
      ]
     },
     "execution_count": 6,
     "metadata": {},
     "output_type": "execute_result"
    }
   ],
   "source": [
    "import hashlib\n",
    "\n",
    "def my_hash (deger):\n",
    "    \"\"\"Return the hash value for the given object.\"\"\"\n",
    "    if type(deger) == str:\n",
    "        result = hashlib.md5(deger.encode()).hexdigest()  \n",
    "    elif  type(deger) == tuple:\n",
    "        deger = str(deger)\n",
    "        result = hashlib.md5(deger.encode()).hexdigest()        \n",
    "    elif type(deger)== float:\n",
    "        deger = str(deger)\n",
    "        result = hashlib.md5(deger.encode()).hexdigest()  \n",
    "    elif type(deger) == int:\n",
    "        result = deger\n",
    "    elif type(deger) == bool:\n",
    "        result = deger and 1 or 0           \n",
    "    elif type (deger)  == list or type (deger)  == set or type (deger)  == dict:\n",
    "        error = \"TypeError: unhashable type: {}\".format(type(deger))\n",
    "        raise(Exception(error))\n",
    "    else:\n",
    "        error = (\"TypeError: unhashable type: Unknown Type\")\n",
    "        raise(Exception(error))\n",
    "                \n",
    "    return result\n",
    "        \n",
    "my_hash(True)"
   ]
  },
  {
   "cell_type": "code",
   "execution_count": null,
   "metadata": {},
   "outputs": [],
   "source": []
  }
 ],
 "metadata": {
  "interpreter": {
   "hash": "df49366fda7ee0f36d4c8045f54f6f67300670dccd947b73953dbfe661710dcc"
  },
  "kernelspec": {
   "display_name": "Python 3.9.7 ('base')",
   "language": "python",
   "name": "python3"
  },
  "language_info": {
   "codemirror_mode": {
    "name": "ipython",
    "version": 3
   },
   "file_extension": ".py",
   "mimetype": "text/x-python",
   "name": "python",
   "nbconvert_exporter": "python",
   "pygments_lexer": "ipython3",
   "version": "3.9.7"
  },
  "orig_nbformat": 4
 },
 "nbformat": 4,
 "nbformat_minor": 2
}
