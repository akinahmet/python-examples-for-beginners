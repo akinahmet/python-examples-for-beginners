{
 "cells": [
  {
   "cell_type": "code",
   "execution_count": 7,
   "metadata": {},
   "outputs": [
    {
     "name": "stdout",
     "output_type": "stream",
     "text": [
      "\n",
      "-----------------------------\n",
      "Calculator with Python\n",
      "-----------------------------\n",
      "\n",
      "by @hmet 2022\n",
      "\n",
      "Welcome to my calculator\n",
      "Please enter A for Addition\n",
      "Please enter S for Subtraction\n",
      "Please enter M for Multiplication\n",
      "Please enter D for Division\n",
      "Enter Q for exit\n",
      "Thank you for your visit\n"
     ]
    }
   ],
   "source": [
    "print (\"\"\"\n",
    "-----------------------------\n",
    "Calculator with Python\n",
    "-----------------------------\n",
    "\n",
    "by @hmet 2022\n",
    "\"\"\")\n",
    "\n",
    "def mainMenu():\n",
    "    validChoices = [\"A\", \"S\", \"M\", \"D\", \"Q\"]\n",
    "    valid = False\n",
    "    while not valid:                \n",
    "        choice = input(\"Please choose your option\").upper()\n",
    "        if choice not in validChoices:\n",
    "            print(\"Please enter A,S,M or D\")\n",
    "        else:\n",
    "            valid= True            \n",
    "    return choice\n",
    "\n",
    "def enterNumber():\n",
    "    valid = False\n",
    "    while not valid:\n",
    "        try:\n",
    "            number=int(input(\"Please enter a number\"))\n",
    "            valid=True\n",
    "        except ValueError:\n",
    "            print(\"That was not a valid number.. please try again\")    \n",
    "    return number\n",
    "\n",
    "def add (a,b):\n",
    "    return(a+b)\n",
    "def subt (a,b):\n",
    "    return (a-b)\n",
    "def mult (a,b):\n",
    "    return (a*b)\n",
    "def divi (a,b):\n",
    "    return (a/b)\n",
    "\n",
    "# program starts here\n",
    "\n",
    "print(\"Welcome to my calculator\")\n",
    "print(\"Please enter A for Addition\")\n",
    "print(\"Please enter S for Subtraction\")\n",
    "print(\"Please enter M for Multiplication\")\n",
    "print(\"Please enter D for Division\")\n",
    "print(\"Enter Q for exit\")\n",
    "\n",
    "userChoice = mainMenu()\n",
    "\n",
    "if userChoice == \"Q\":\n",
    "    print(\"Thank you for your visit\") \n",
    "else:\n",
    "    if userChoice == \"A\":\n",
    "        answer = add(enterNumber(), enterNumber())\n",
    "    elif userChoice == \"S\":\n",
    "        answer = subt(enterNumber(), enterNumber())\n",
    "    elif userChoice == \"M\":\n",
    "        answer = mult(enterNumber(), enterNumber())\n",
    "    elif userChoice == \"D\":\n",
    "        answer = divi(enterNumber(), enterNumber())\n",
    "       \n",
    "    \n",
    "    print(\"The answer is=\"+str(answer))\n"
   ]
  },
  {
   "cell_type": "code",
   "execution_count": null,
   "metadata": {},
   "outputs": [],
   "source": []
  }
 ],
 "metadata": {
  "interpreter": {
   "hash": "df49366fda7ee0f36d4c8045f54f6f67300670dccd947b73953dbfe661710dcc"
  },
  "kernelspec": {
   "display_name": "Python 3.9.7 ('base')",
   "language": "python",
   "name": "python3"
  },
  "language_info": {
   "codemirror_mode": {
    "name": "ipython",
    "version": 3
   },
   "file_extension": ".py",
   "mimetype": "text/x-python",
   "name": "python",
   "nbconvert_exporter": "python",
   "pygments_lexer": "ipython3",
   "version": "3.9.7"
  },
  "orig_nbformat": 4
 },
 "nbformat": 4,
 "nbformat_minor": 2
}
